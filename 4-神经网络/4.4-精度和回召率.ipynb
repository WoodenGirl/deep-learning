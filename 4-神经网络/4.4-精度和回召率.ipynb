{
 "cells": [
  {
   "cell_type": "markdown",
   "metadata": {},
   "source": [
    "精度  $\\frac{true \\quad positives}{predicted \\quad positive}$"
   ]
  },
  {
   "cell_type": "markdown",
   "metadata": {},
   "source": [
    "回召率  $\\frac{true \\quad positives}{actual \\quad positive}$"
   ]
  }
 ],
 "metadata": {
  "language_info": {
   "name": "python"
  }
 },
 "nbformat": 4,
 "nbformat_minor": 2
}
