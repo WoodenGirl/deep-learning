{
 "cells": [
  {
   "cell_type": "markdown",
   "metadata": {},
   "source": [
    "### softmax逻辑回归"
   ]
  },
  {
   "cell_type": "markdown",
   "metadata": {},
   "source": [
    "$ z = \\vec w  \\vec x + b $"
   ]
  },
  {
   "cell_type": "markdown",
   "metadata": {},
   "source": [
    "$ a_1 = \\frac{e^{z_1}}{e^{z_1} + e^{z_2} + e^{z_3} + e^{z_4}} \\\\$\n",
    "$ a_2 = \\frac{e^{z_2}}{e^{z_1} + e^{z_2} + e^{z_3} + e^{z_4}} \\\\$\n",
    "$ a_3 = \\frac{e^{z_3}}{e^{z_1} + e^{z_2} + e^{z_3} + e^{z_4}} \\\\$\n",
    "$ a_4 = \\frac{e^{z_4}}{e^{z_1} + e^{z_2} + e^{z_3} + e^{z_4}} \\\\$"
   ]
  },
  {
   "cell_type": "markdown",
   "metadata": {},
   "source": [
    "### 成本函数"
   ]
  },
  {
   "cell_type": "markdown",
   "metadata": {},
   "source": [
    "$\n",
    "loss(a_1,a_2,...,y) = \n",
    "\\begin{cases}\n",
    "-\\log a_1,\\quad if\\quad y = 1 \\\\\n",
    "-\\log a_2,\\quad if\\quad y = 2 \\\\\n",
    "... \\\\\n",
    "-\\log a_n,\\quad if\\quad y = n \n",
    "\\end{cases}\n",
    "$"
   ]
  },
  {
   "cell_type": "markdown",
   "metadata": {},
   "source": [
    "### 神经网络"
   ]
  },
  {
   "cell_type": "code",
   "execution_count": 5,
   "metadata": {},
   "outputs": [],
   "source": [
    "\n",
    "import tensorflow as tf\n",
    "from tensorflow.keras import Sequential\n",
    "from tensorflow.keras.layers import Dense\n",
    "from tensorflow.keras.losses import SparseCategoricalCrossentropy\n",
    "from tensorflow.keras.optimizers import Adam\n",
    "\n",
    "# 激活函数 relu=max(0,z), sigmoid, linear, softmax\n",
    "model = Sequential({\n",
    "    Dense(units=25, activation='relu'),\n",
    "    Dense(units=15, activation='relu'),\n",
    "    # Dense(units=10, activation='softmax'),\n",
    "    Dense(units=10, activation='linear'),\n",
    "})\n",
    "\n",
    "# 损失函数 \n",
    "# 二进制交叉熵 BinaryCrossentropy \n",
    "# 方差 MeanSquaredError\n",
    "# 稀疏 SparseCategoricalCrossentropy\n",
    "\n",
    "# model.compile(loss= SparseCategoricalCrossentropy())\n",
    "model.compile(optimizer=Adam(learning_rate=0.001), loss= SparseCategoricalCrossentropy(from_logits=True))\n",
    "\n",
    "# 拟合\n",
    "# model.fit(X,y,epochs=100)\n",
    "\n",
    "# 预测\n",
    "# logic = model(X)\n",
    "# f_x = tf.nn.sigmoid(logic)"
   ]
  }
 ],
 "metadata": {
  "kernelspec": {
   "display_name": "d2l",
   "language": "python",
   "name": "python3"
  },
  "language_info": {
   "codemirror_mode": {
    "name": "ipython",
    "version": 3
   },
   "file_extension": ".py",
   "mimetype": "text/x-python",
   "name": "python",
   "nbconvert_exporter": "python",
   "pygments_lexer": "ipython3",
   "version": "3.12.7"
  }
 },
 "nbformat": 4,
 "nbformat_minor": 2
}
