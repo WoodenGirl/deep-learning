{
 "cells": [
  {
   "cell_type": "markdown",
   "metadata": {},
   "source": [
    "### 数据集"
   ]
  },
  {
   "cell_type": "markdown",
   "metadata": {},
   "source": [
    "- 60% 训练集 train\n",
    "- 20% 交叉验证集 cv\n",
    "- 20% 测试集 test"
   ]
  },
  {
   "cell_type": "markdown",
   "metadata": {},
   "source": [
    "### 偏差与方差"
   ]
  },
  {
   "cell_type": "markdown",
   "metadata": {},
   "source": [
    "1. 基准绩效水平：人类水平/竞争对手水平/预计水平\n",
    "2. 训练误差(J_tran)与基准线相差大------高偏差\n",
    "3. 训练误差与交叉验证误差(J_cv)相差大-----高方差"
   ]
  },
  {
   "cell_type": "markdown",
   "metadata": {},
   "source": [
    "### 结果相差预期较大时"
   ]
  },
  {
   "cell_type": "markdown",
   "metadata": {},
   "source": [
    "1. 增加训练集 ----------解决高方差\n",
    "2. 减少特征集---------解决高方差\n",
    "3. 添加特征变量--------解决高偏差\n",
    "4. 添加多项式特征-------解决高偏差\n",
    "5. 降低$\\lambda$------解决高偏差\n",
    "6. 增加$\\lambda$-----解决高方差"
   ]
  },
  {
   "cell_type": "markdown",
   "metadata": {},
   "source": [
    "### 神经网络结合"
   ]
  },
  {
   "cell_type": "markdown",
   "metadata": {},
   "source": [
    "模型大，需要正则化合适"
   ]
  }
 ],
 "metadata": {
  "language_info": {
   "name": "python"
  }
 },
 "nbformat": 4,
 "nbformat_minor": 2
}
