{
 "cells": [
  {
   "cell_type": "markdown",
   "metadata": {},
   "source": [
    "### 多元线性回归\n",
    "$ f_{\\vec{w},b}(\\vec{x}) = \\vec{w} \\vec{x} + b $"
   ]
  },
  {
   "cell_type": "markdown",
   "metadata": {},
   "source": [
    "### 成本函数"
   ]
  },
  {
   "cell_type": "markdown",
   "metadata": {},
   "source": [
    "$ J_{(\\vec{w},b)} $"
   ]
  },
  {
   "cell_type": "markdown",
   "metadata": {},
   "source": [
    "### 梯度下降"
   ]
  },
  {
   "cell_type": "markdown",
   "metadata": {},
   "source": [
    "$ w_j = w_j - \\alpha \\frac{\\partial}{\\partial w_j} J_{(\\vec{w}, b)} $\n",
    "\n",
    "b = b - $\\alpha \\frac{\\partial}{\\partial b} J_{(\\vec{w}, b)} $"
   ]
  },
  {
   "cell_type": "markdown",
   "metadata": {},
   "source": [
    "### 其他"
   ]
  },
  {
   "cell_type": "markdown",
   "metadata": {},
   "source": [
    "#### 特征缩放\n",
    "- 除以最大值   0~1\n",
    "- 均值 $ \\frac{x-\\mu}{max-min} $ -1~1\n",
    "- z值归一化----减去均值再除以标准差  $ \\frac{x-\\mu}{\\sigma} $ -3~3"
   ]
  },
  {
   "cell_type": "markdown",
   "metadata": {},
   "source": [
    "#### 检查梯度下降是否收敛\n",
    "绘制成本函数，下降，并趋于固定值"
   ]
  },
  {
   "cell_type": "markdown",
   "metadata": {},
   "source": [
    "#### 选择合适的学习率\n",
    "0.001 -> 0.003 -> 0.01 -> 0.03 -> 0.1 ... -> 1"
   ]
  },
  {
   "cell_type": "markdown",
   "metadata": {},
   "source": [
    "#### 特征工程\n",
    "对原始数据中特征进行处理的方法统称\n",
    "如原变量组合成新变量，如 x3 = x1 * x2"
   ]
  },
  {
   "cell_type": "markdown",
   "metadata": {},
   "source": [
    "#### 多项式回归\n",
    "包含变量为多元多次的式子 $ f = a_1x + a_1x^2 + a_3x^3 + ... $\n",
    "\n",
    "选择合适的函数拟合"
   ]
  },
  {
   "cell_type": "markdown",
   "metadata": {},
   "source": [
    "## pyhton实现"
   ]
  },
  {
   "cell_type": "code",
   "execution_count": 147,
   "metadata": {},
   "outputs": [],
   "source": [
    "import numpy as np\n",
    "import pandas as pd\n",
    "import copy\n",
    "import math\n",
    "from matplotlib import pyplot as plt"
   ]
  },
  {
   "cell_type": "code",
   "execution_count": 148,
   "metadata": {},
   "outputs": [],
   "source": [
    "# 特征缩放\n",
    "def zscore_normalize_features(X):\n",
    "    \"\"\"\n",
    "    computes  X, zcore normalized by column\n",
    "    \n",
    "    Args:\n",
    "      X (ndarray): Shape (m,n) input data, m examples, n features\n",
    "      \n",
    "    Returns:\n",
    "      X_norm (ndarray): Shape (m,n)  input normalized by column\n",
    "      mu (ndarray):     Shape (n,)   mean of each feature\n",
    "      sigma (ndarray):  Shape (n,)   standard deviation of each feature\n",
    "    \"\"\"\n",
    "    # 计算特征均值\n",
    "    mu = np.mean(X, axis=0)                 # mu will have shape (n,)\n",
    "    # 计算特征标准差\n",
    "    sigma = np.std(X, axis=0)                  # sigma will have shape (n,)\n",
    "    # x值归一化为z值\n",
    "    X_norm = (X - mu) / sigma      \n",
    " \n",
    "    return (X_norm, mu, sigma)"
   ]
  },
  {
   "cell_type": "code",
   "execution_count": 149,
   "metadata": {},
   "outputs": [],
   "source": [
    "# 成本函数\n",
    "def compute_cost(x, y, w, b):\n",
    "   \n",
    "    m = x.shape[0] \n",
    "    cost = 0\n",
    "    \n",
    "    for i in range(m):\n",
    "        f_wb = np.dot(w,x[i]) + b\n",
    "        cost = cost + (f_wb - y[i])**2\n",
    "    total_cost = 1 / (2 * m) * cost\n",
    " \n",
    "    return total_cost"
   ]
  },
  {
   "cell_type": "code",
   "execution_count": 150,
   "metadata": {},
   "outputs": [],
   "source": [
    "# 梯度函数\n",
    "def compute_gradient(x, y, w, b):    \n",
    "    m = x.shape[1]\n",
    "    dj_dw = np.zeros(m)\n",
    "    dj_db = 0\n",
    "    for i in range(m):\n",
    "        f_wb_i = np.dot(w,x[i]) + b\n",
    "\n",
    "        dj_db_i = f_wb_i - y[i]\n",
    "        dj_dw_i = (f_wb_i - y[i]) * x[i]\n",
    "\n",
    "        dj_db = dj_db + dj_db_i\n",
    "        dj_dw = dj_dw + dj_dw_i\n",
    "\n",
    "    dj_db = (1 / m) * dj_db\n",
    "    dj_dw = (1 / m) * dj_dw\n",
    "\n",
    "    return dj_dw, dj_db"
   ]
  },
  {
   "cell_type": "code",
   "execution_count": 151,
   "metadata": {},
   "outputs": [],
   "source": [
    "# 梯度下降函数\n",
    "def gradient_descent(x, y, w_in, b_in, alpha, num_iters, cost_function, gradient_function): \n",
    "    \"\"\"\n",
    "    函数用于求解最优回归模型参数w,b.  \n",
    "    \n",
    "    参数:\n",
    "      x (ndarray (m,))  : 输入数据 \n",
    "      y (ndarray (m,))  : 目标值\n",
    "      w_in,b_in (scalar): 模型初始参数值  \n",
    "      alpha (float):     学习率\n",
    "      num_iters (int):   总迭代步数\n",
    "      cost_function:     成本函数\n",
    "      gradient_function: 梯度函数\n",
    "      \n",
    "    返回:\n",
    "      w (scalar): 参数w计算结果\n",
    "      b (scalar): 参数b计算结果\n",
    "      J_history (List): 计算过程中的成本历史值\n",
    "      p_history (list): 计算过程中的w,b历史值 \n",
    "      \"\"\"\n",
    "    \n",
    "    w = copy.deepcopy(w_in) # 深拷贝以避免修改全局w_in\n",
    "    b = copy.deepcopy(b_in) # 深拷贝以避免修改全局w_in\n",
    "    # 采用列表储存每一步迭代的成本值、w值、b值\n",
    "    J_history = []\n",
    "    p_history = []\n",
    "    b = b_in\n",
    "    w = w_in\n",
    "    \n",
    "    for i in range(num_iters):\n",
    "        # 计算梯度并更新梯度值\n",
    "        dj_dw, dj_db = gradient_function(x, y, w , b)     \n",
    " \n",
    "        # 梯度下降更新参数值\n",
    "        b = b - alpha * dj_db                            \n",
    "        w = w - alpha * dj_dw                            \n",
    " \n",
    "        # 每一步迭代中保存成本值\n",
    "        if i<100000:      # 停止迭代的条件 \n",
    "            J_history.append(cost_function(x, y, w , b))\n",
    "            p_history.append([w,b])\n",
    "        # 每迭代10次打印一次成本\n",
    "        if i% math.ceil(num_iters/10) == 0:\n",
    "            print(f\"Iteration {i:4}: Cost {J_history[-1]:0.2e} \",\n",
    "                  f\"dj_dw: {dj_dw}, dj_db: {dj_db: 0.3e}  \",\n",
    "                  f\"w: {w}, b:{b: 0.5e}\")\n",
    " \n",
    "    return w, b, J_history, p_history"
   ]
  },
  {
   "cell_type": "code",
   "execution_count": 152,
   "metadata": {},
   "outputs": [],
   "source": [
    "# 获取数据\n",
    "data = pd.read_csv('data.csv')\n",
    "data = data.to_numpy(dtype=int)\n",
    "\n",
    "x_train = data[:, :2]\n",
    "y_train = data[:, -1]\n",
    "\n",
    "# 数据缩放\n",
    "x_norm,_,_ = zscore_normalize_features(x_train)\n",
    "y_norm,_,_ = zscore_normalize_features(y_train)"
   ]
  },
  {
   "cell_type": "code",
   "execution_count": 153,
   "metadata": {},
   "outputs": [
    {
     "name": "stdout",
     "output_type": "stream",
     "text": [
      "Iteration    0: Cost 4.99e-01  dj_dw: [-0.07907272  0.01893949], dj_db: -8.283e-02   w: [ 0.00079073 -0.00018939], b: 8.28264e-04\n",
      "Iteration  300: Cost 3.80e-01  dj_dw: [-0.03684077  0.00077376], dj_db: -3.384e-03   w: [ 0.16638625 -0.01719976], b: 7.52182e-02\n",
      "Iteration  600: Cost 3.30e-01  dj_dw: [-1.72033251e-02  2.35524087e-05], dj_db: -1.030e-04   w: [ 0.24364816 -0.01787202], b: 7.81582e-02\n",
      "Iteration  900: Cost 3.08e-01  dj_dw: [-8.03496974e-03 -3.13903277e-06], dj_db:  1.373e-05   w: [ 0.2797313  -0.01788164], b: 7.82002e-02\n",
      "Iteration 1200: Cost 2.98e-01  dj_dw: [-3.75287406e-03 -2.05792062e-06], dj_db:  9.000e-06   w: [ 0.29658445 -0.01787339], b: 7.81641e-02\n",
      "Iteration 1500: Cost 2.94e-01  dj_dw: [-1.75284874e-03 -9.85957101e-07], dj_db:  4.312e-06   w: [ 0.30445602 -0.017869  ], b: 7.81450e-02\n",
      "Iteration 1800: Cost 2.92e-01  dj_dw: [-8.18700314e-04 -4.61546016e-07], dj_db:  2.018e-06   w: [ 0.30813259 -0.01786693], b: 7.81359e-02\n",
      "Iteration 2100: Cost 2.91e-01  dj_dw: [-3.82389077e-04 -2.15616960e-07], dj_db:  9.429e-07   w: [ 0.30984979 -0.01786596], b: 7.81317e-02\n",
      "Iteration 2400: Cost 2.90e-01  dj_dw: [-1.78601869e-04 -1.00709693e-07], dj_db:  4.404e-07   w: [ 0.31065184 -0.01786551], b: 7.81297e-02\n",
      "Iteration 2700: Cost 2.90e-01  dj_dw: [-8.34192961e-05 -4.70383949e-08], dj_db:  2.057e-07   w: [ 0.31102646 -0.0178653 ], b: 7.81288e-02\n",
      "(w,b) found by gradient descent: ([ 0.31120104 -0.0178652 ],  0.0781)\n"
     ]
    }
   ],
   "source": [
    "# 参数初始化\n",
    "m = x_norm.shape[1]\n",
    "w_init = np.zeros(m, dtype=int)\n",
    "b_init = 0\n",
    "# 设置迭代步数和学习率\n",
    "iterations = 3000\n",
    "tmp_alpha = 1.0e-2\n",
    "# 执行梯度下降\n",
    "w_final, b_final, J_hist, p_hist = gradient_descent(x_norm ,y_norm, w_init, b_init, tmp_alpha, \n",
    "                                                    iterations, compute_cost, compute_gradient)\n",
    "print(f\"(w,b) found by gradient descent: ({w_final},{b_final:8.4f})\")"
   ]
  },
  {
   "cell_type": "markdown",
   "metadata": {},
   "source": [
    "## 绘图"
   ]
  },
  {
   "cell_type": "code",
   "execution_count": 154,
   "metadata": {},
   "outputs": [
    {
     "data": {
      "text/plain": [
       "[<matplotlib.lines.Line2D at 0x140b00d5580>]"
      ]
     },
     "execution_count": 154,
     "metadata": {},
     "output_type": "execute_result"
    },
    {
     "data": {
      "image/png": "[encoded data removed]",
      "text/plain": [
       "<Figure size 640x480 with 1 Axes>"
      ]
     },
     "metadata": {},
     "output_type": "display_data"
    }
   ],
   "source": [
    "# 检查梯度下降是否收敛\n",
    "plt.plot(J_hist)"
   ]
  }
 ],
 "metadata": {
  "kernelspec": {
   "display_name": "d2l",
   "language": "python",
   "name": "python3"
  },
  "language_info": {
   "codemirror_mode": {
    "name": "ipython",
    "version": 3
   },
   "file_extension": ".py",
   "mimetype": "text/x-python",
   "name": "python",
   "nbconvert_exporter": "python",
   "pygments_lexer": "ipython3",
   "version": "3.12.7"
  }
 },
 "nbformat": 4,
 "nbformat_minor": 2
}
