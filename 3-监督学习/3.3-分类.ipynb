{
 "cells": [
  {
   "cell_type": "markdown",
   "metadata": {},
   "source": [
    "### 逻辑回归"
   ]
  },
  {
   "cell_type": "markdown",
   "metadata": {},
   "source": [
    "$\n",
    "f_{\\vec{w},b}(\\vec{x}) = \\frac{1}{1 + e^-(\\vec{w}\\vec{x} + b)}\n",
    "$"
   ]
  },
  {
   "cell_type": "markdown",
   "metadata": {},
   "source": [
    "### 决策边界"
   ]
  },
  {
   "cell_type": "markdown",
   "metadata": {},
   "source": [
    "$ \n",
    "f_{\\vec{w},b}(\\vec{x}) = 0.5\n",
    "=>\n",
    "\\vec{w}\\vec{x} + b = 0 \n",
    "$"
   ]
  },
  {
   "cell_type": "markdown",
   "metadata": {},
   "source": [
    "### 成本函数"
   ]
  },
  {
   "cell_type": "markdown",
   "metadata": {},
   "source": [
    "$ \n",
    "L(f_{\\vec{w},b}(\\vec{x}^{(i)}),y^{(i)}) = \n",
    "\\begin{cases}\n",
    "-\\log(f_{\\vec{w},b}(\\vec{x}^{(i)})),\\quad y^{(i)} = 1 \\\\\n",
    "-\\log(1-f_{\\vec{w},b}(\\vec{x}^{(i)})),\\quad y^{(i)} = 0\n",
    "\\end{cases}\n",
    "$"
   ]
  },
  {
   "cell_type": "markdown",
   "metadata": {},
   "source": [
    "$\n",
    "J(\\vec{w},b) = \\frac{1}{m}\\sum_{i=1}^m L(f_{\\vec{w},b}(\\vec{x}^{(i)}),y^{(i)})\n",
    "= -y^{(i)}\\log f_{\\vec{w},b}(\\vec{x}^{(i)}) - (1-y^{(i)})\\log(1-f_{\\vec{w},b}(\\vec{x}^{(i)}))\n",
    "$"
   ]
  },
  {
   "cell_type": "markdown",
   "metadata": {},
   "source": [
    "### 梯度下降"
   ]
  },
  {
   "cell_type": "markdown",
   "metadata": {},
   "source": [
    "w = w - $\\alpha \\frac{\\partial}{\\partial w} J_{(w, b)}  = w - \\frac{\\alpha}{m}\\sum_{i=1}^m{(f_{\\vec{w},b}(\\vec{x})-y^i)x^i} $\n",
    "\n",
    "b = b - $\\alpha \\frac{\\partial}{\\partial b} J_{(w, b)} = w - \\frac{\\alpha}{m}\\sum_{i=1}^m{(f_{\\vec{w},b}(\\vec{x})-y^i)} $"
   ]
  }
 ],
 "metadata": {
  "language_info": {
   "name": "python"
  }
 },
 "nbformat": 4,
 "nbformat_minor": 2
}
