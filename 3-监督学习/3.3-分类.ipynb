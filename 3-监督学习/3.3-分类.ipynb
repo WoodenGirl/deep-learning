{
 "cells": [
  {
   "cell_type": "markdown",
   "metadata": {},
   "source": [
    "### 逻辑回归"
   ]
  },
  {
   "cell_type": "markdown",
   "metadata": {},
   "source": [
    "$\n",
    "f_{\\vec{w},b}(\\vec{x}) = \\frac{1}{1 + e^-(\\vec{w}\\vec{x} + b)}\n",
    "$"
   ]
  },
  {
   "cell_type": "markdown",
   "metadata": {},
   "source": [
    "### 决策边界"
   ]
  },
  {
   "cell_type": "markdown",
   "metadata": {},
   "source": [
    "$ \n",
    "f_{\\vec{w},b}(\\vec{x}) = 0.5\n",
    "=>\n",
    "\\vec{w}\\vec{x} + b = 0 \n",
    "$"
   ]
  },
  {
   "cell_type": "markdown",
   "metadata": {},
   "source": [
    "### 成本函数"
   ]
  },
  {
   "cell_type": "markdown",
   "metadata": {},
   "source": [
    "$ \n",
    "L(f_{\\vec{w},b}(\\vec{x}^{(i)}),y^{(i)}) = \n",
    "\\begin{cases}\n",
    "-\\log(f_{\\vec{w},b}(\\vec{x}^{(i)})),\\quad y^{(i)} = 1 \\\\\n",
    "-\\log(1-f_{\\vec{w},b}(\\vec{x}^{(i)})),\\quad y^{(i)} = 0\n",
    "\\end{cases}\n",
    "$"
   ]
  },
  {
   "cell_type": "markdown",
   "metadata": {},
   "source": [
    "$\n",
    "J(\\vec{w},b) = \\frac{1}{m}\\sum_{i=1}^m L(f_{\\vec{w},b}(\\vec{x}^{(i)}),y^{(i)})\n",
    "= -y^{(i)}\\log f_{\\vec{w},b}(\\vec{x}^{(i)}) - (1-y^{(i)})\\log(1-f_{\\vec{w},b}(\\vec{x}^{(i)}))\n",
    "$"
   ]
  },
  {
   "cell_type": "markdown",
   "metadata": {},
   "source": [
    "### 梯度下降"
   ]
  },
  {
   "cell_type": "markdown",
   "metadata": {},
   "source": [
    "w = w - $\\alpha \\frac{\\partial}{\\partial w} J_{(w, b)}  = w - \\frac{\\alpha}{m}\\sum_{i=1}^m{(f_{\\vec{w},b}(\\vec{x})-y^i)x^i} $\n",
    "\n",
    "b = b - $\\alpha \\frac{\\partial}{\\partial b} J_{(w, b)} = w - \\frac{\\alpha}{m}\\sum_{i=1}^m{(f_{\\vec{w},b}(\\vec{x})-y^i)} $"
   ]
  },
  {
   "cell_type": "markdown",
   "metadata": {},
   "source": [
    "### pyhton实现"
   ]
  },
  {
   "cell_type": "code",
   "execution_count": 1,
   "metadata": {},
   "outputs": [],
   "source": [
    "import numpy as np"
   ]
  },
  {
   "cell_type": "code",
   "execution_count": 4,
   "metadata": {},
   "outputs": [],
   "source": [
    "#sigmoid函数\n",
    "def sigmoid(z):\n",
    "    s = 1/(1+np.exp(-z))\n",
    "    return s"
   ]
  },
  {
   "cell_type": "code",
   "execution_count": null,
   "metadata": {},
   "outputs": [],
   "source": [
    "#初始化参数w,b\n",
    "def initialize_with_zeros(dim):\n",
    "    w = np.zeros((dim,1)) #w为一个dim*1矩阵\n",
    "    b = 0    \n",
    "    return w, b"
   ]
  },
  {
   "cell_type": "code",
   "execution_count": null,
   "metadata": {},
   "outputs": [],
   "source": [
    "#计算Y_hat,成本函数J以及dw，db\n",
    "def propagate(w, b, X, Y):\n",
    "    m = X.shape[1] #样本个数\n",
    "    Y_hat = sigmoid(np.dot(w.T,X)+b)                                     \n",
    "    cost = -(np.sum(np.dot(Y,np.log(Y_hat).T)+np.dot((1-Y),np.log(1-Y_hat).T)))/m #成本函数\n",
    "\n",
    "    dw = (np.dot(X,(Y_hat-Y).T))/m\n",
    "    db = (np.sum(Y_hat-Y))/m\n",
    "\n",
    "    cost = np.squeeze(cost) #压缩维度    \n",
    "    grads = {\"dw\": dw,\n",
    "             \"db\": db} #梯度\n",
    "\n",
    "    return grads, cost"
   ]
  },
  {
   "cell_type": "code",
   "execution_count": null,
   "metadata": {},
   "outputs": [],
   "source": [
    "#梯度下降找出最优解\n",
    "def optimize(w, b, X, Y, num_iterations, learning_rate, print_cost = False):#num_iterations-梯度下降次数 learning_rate-学习率\n",
    "    costs = [] #记录成本值\n",
    "\n",
    "    for i in range(num_iterations): #循环进行梯度下降\n",
    "        grads, cost = propagate(w,b,X,Y)\n",
    "        dw = grads[\"dw\"]\n",
    "        db = grads[\"db\"]\n",
    "\n",
    "        w = w - learning_rate * dw\n",
    "        b = b - learning_rate * db\n",
    "\n",
    "        if i % 100 == 0: #每100次记录一次成本值\n",
    "            costs.append(cost)\n",
    "\n",
    "        if print_cost and i % 100 == 0: #打印成本值\n",
    "            print (\"循环%i次后的成本值: %f\" %(i, cost))\n",
    "\n",
    "    params = {\"w\": w,\n",
    "              \"b\": b} #最终参数值\n",
    "\n",
    "    grads = {\"dw\": dw,\n",
    "             \"db\": db}#最终梯度值\n",
    "\n",
    "    return params, grads, costs"
   ]
  },
  {
   "cell_type": "markdown",
   "metadata": {},
   "source": [
    "### 绘图"
   ]
  },
  {
   "cell_type": "code",
   "execution_count": 3,
   "metadata": {},
   "outputs": [],
   "source": [
    "from matplotlib import pyplot as plt"
   ]
  },
  {
   "cell_type": "code",
   "execution_count": 7,
   "metadata": {},
   "outputs": [
    {
     "data": {
      "text/plain": [
       "[<matplotlib.lines.Line2D at 0x202c7d75910>]"
      ]
     },
     "execution_count": 7,
     "metadata": {},
     "output_type": "execute_result"
    },
    {
     "data": {
      "image/png": "[encoded data removed]",
      "text/plain": [
       "<Figure size 640x480 with 1 Axes>"
      ]
     },
     "metadata": {},
     "output_type": "display_data"
    }
   ],
   "source": [
    "# sigmoid函数\n",
    "x = np.arange(10)\n",
    "plt.plot(x, sigmoid(x))"
   ]
  }
 ],
 "metadata": {
  "kernelspec": {
   "display_name": "d2l",
   "language": "python",
   "name": "python3"
  },
  "language_info": {
   "codemirror_mode": {
    "name": "ipython",
    "version": 3
   },
   "file_extension": ".py",
   "mimetype": "text/x-python",
   "name": "python",
   "nbconvert_exporter": "python",
   "pygments_lexer": "ipython3",
   "version": "3.12.7"
  }
 },
 "nbformat": 4,
 "nbformat_minor": 2
}
