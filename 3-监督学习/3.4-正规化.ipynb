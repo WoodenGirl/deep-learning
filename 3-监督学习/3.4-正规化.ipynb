{
 "cells": [
  {
   "cell_type": "markdown",
   "metadata": {},
   "source": [
    "### 过度拟合/高偏差"
   ]
  },
  {
   "cell_type": "markdown",
   "metadata": {},
   "source": [
    "现象：训练数据良好，预测数据不准确 \n",
    "\n",
    "解决：获取更多的训练数据，减少变量，正则化"
   ]
  },
  {
   "cell_type": "markdown",
   "metadata": {},
   "source": [
    "### 正则化成本函数"
   ]
  },
  {
   "cell_type": "markdown",
   "metadata": {},
   "source": [
    "$ J_{(w,b)} = \\frac{1}{2m} \\sum_{i=1}^{m} (f_{\\vec{w},b}(\\vec{x}^{(i)})-y^{(i)})^2 + \\frac{\\lambda}{2m} \\sum_{j=1}^{m} w_j^2$ "
   ]
  },
  {
   "cell_type": "markdown",
   "metadata": {},
   "source": [
    "$\\lambda$越大，w越小"
   ]
  },
  {
   "cell_type": "markdown",
   "metadata": {},
   "source": [
    "### 正规化线性回归/正规化逻辑回归"
   ]
  },
  {
   "cell_type": "markdown",
   "metadata": {},
   "source": [
    "#### 梯度下降\n",
    "$ w_j = w_j - \\alpha [\\frac{1}{m} \\sum_{j=1}^m[(f_{\\vec{w},b}(\\vec{x}^{(i)})-y^{(i)})x_j^{(i)}] + \\frac{\\lambda}{m}w_j] $"
   ]
  }
 ],
 "metadata": {
  "language_info": {
   "name": "python"
  }
 },
 "nbformat": 4,
 "nbformat_minor": 2
}
